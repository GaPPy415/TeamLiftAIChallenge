{
 "cells": [
  {
   "metadata": {
    "ExecuteTime": {
     "end_time": "2025-02-13T16:38:26.568915Z",
     "start_time": "2025-02-13T16:38:26.566454Z"
    }
   },
   "cell_type": "code",
   "source": "from transformers import pipeline",
   "id": "b2ac9c14d4833ed0",
   "outputs": [],
   "execution_count": 10
  },
  {
   "metadata": {
    "ExecuteTime": {
     "end_time": "2025-02-13T16:38:26.578394Z",
     "start_time": "2025-02-13T16:38:26.575919Z"
    }
   },
   "cell_type": "code",
   "source": [
    "class Handler:\n",
    "    def __init__(self):\n",
    "        self.classifier = pipeline('zero-shot-classification')\n",
    "        self.skills = ['Python', 'relational database', 'Software engineering', 'data science', 'NLP', 'natural language processing']\n",
    "\n",
    "    def search(self, search_query):\n",
    "        return self.classifier(search_query, candidate_labels=self.skills)"
   ],
   "id": "8fc70c0986b4ddb",
   "outputs": [],
   "execution_count": 11
  },
  {
   "metadata": {
    "ExecuteTime": {
     "end_time": "2025-02-13T16:38:29.231426Z",
     "start_time": "2025-02-13T16:38:26.583357Z"
    }
   },
   "cell_type": "code",
   "source": "handler = Handler()",
   "id": "445dcb970e32c173",
   "outputs": [
    {
     "name": "stderr",
     "output_type": "stream",
     "text": [
      "No model was supplied, defaulted to FacebookAI/roberta-large-mnli and revision 2a8f12d (https://huggingface.co/FacebookAI/roberta-large-mnli).\n",
      "Using a pipeline without specifying a model name and revision in production is not recommended.\n",
      "All PyTorch model weights were used when initializing TFRobertaForSequenceClassification.\n",
      "\n",
      "All the weights of TFRobertaForSequenceClassification were initialized from the PyTorch model.\n",
      "If your task is similar to the task the model of the checkpoint was trained on, you can already use TFRobertaForSequenceClassification for predictions without further training.\n",
      "Device set to use 0\n"
     ]
    }
   ],
   "execution_count": 12
  },
  {
   "metadata": {
    "ExecuteTime": {
     "end_time": "2025-02-13T16:38:29.239978Z",
     "start_time": "2025-02-13T16:38:29.236939Z"
    }
   },
   "cell_type": "code",
   "source": [
    "def print_result(result):\n",
    "    for x in result['labels']:\n",
    "        score = result['scores'][result['labels'].index(x)]\n",
    "        print(x, score)"
   ],
   "id": "d9d3ec2fca74ec95",
   "outputs": [],
   "execution_count": 13
  },
  {
   "metadata": {
    "ExecuteTime": {
     "end_time": "2025-02-13T16:38:33.375195Z",
     "start_time": "2025-02-13T16:38:29.244699Z"
    }
   },
   "cell_type": "code",
   "source": "results = [handler.search('databases'), handler.search('machine learning'), handler.search('data science')]",
   "id": "ce09aa8dae509175",
   "outputs": [],
   "execution_count": 14
  },
  {
   "metadata": {
    "ExecuteTime": {
     "end_time": "2025-02-13T16:38:33.383817Z",
     "start_time": "2025-02-13T16:38:33.380816Z"
    }
   },
   "cell_type": "code",
   "source": [
    "print('Databases:')\n",
    "print_result(results[0])\n",
    "print('\\nMachine Learning:')\n",
    "print_result(results[1])\n",
    "print('\\nData Science:')\n",
    "print_result(results[2])"
   ],
   "id": "c1fb5207a21a5da",
   "outputs": [
    {
     "name": "stdout",
     "output_type": "stream",
     "text": [
      "Databases:\n",
      "data science 0.5825856924057007\n",
      "relational database 0.11950516700744629\n",
      "NLP 0.08248414099216461\n",
      "Software engineering 0.0759487897157669\n",
      "Python 0.07440933585166931\n",
      "natural language processing 0.0650668516755104\n",
      "\n",
      "Machine Learning:\n",
      "data science 0.7543462514877319\n",
      "NLP 0.0957929790019989\n",
      "Software engineering 0.04500377178192139\n",
      "Python 0.04330572485923767\n",
      "relational database 0.040083225816488266\n",
      "natural language processing 0.02146814577281475\n",
      "\n",
      "Data Science:\n",
      "data science 0.9038235545158386\n",
      "relational database 0.028530703857541084\n",
      "NLP 0.02253977209329605\n",
      "Python 0.0177218746393919\n",
      "Software engineering 0.014732012525200844\n",
      "natural language processing 0.012652079574763775\n"
     ]
    }
   ],
   "execution_count": 15
  },
  {
   "metadata": {
    "ExecuteTime": {
     "end_time": "2025-02-13T16:38:33.392169Z",
     "start_time": "2025-02-13T16:38:33.390164Z"
    }
   },
   "cell_type": "code",
   "source": "",
   "id": "26073054f8e86787",
   "outputs": [],
   "execution_count": null
  }
 ],
 "metadata": {
  "kernelspec": {
   "display_name": "Python 3",
   "language": "python",
   "name": "python3"
  },
  "language_info": {
   "codemirror_mode": {
    "name": "ipython",
    "version": 2
   },
   "file_extension": ".py",
   "mimetype": "text/x-python",
   "name": "python",
   "nbconvert_exporter": "python",
   "pygments_lexer": "ipython2",
   "version": "2.7.6"
  }
 },
 "nbformat": 4,
 "nbformat_minor": 5
}
