{
 "cells": [
  {
   "metadata": {
    "ExecuteTime": {
     "end_time": "2025-02-13T16:38:26.568915Z",
     "start_time": "2025-02-13T16:38:26.566454Z"
    }
   },
   "cell_type": "code",
   "source": "from transformers import pipeline",
   "id": "b2ac9c14d4833ed0",
   "outputs": [],
   "execution_count": 10
  },
  {
   "metadata": {
    "ExecuteTime": {
     "end_time": "2025-02-13T16:38:26.578394Z",
     "start_time": "2025-02-13T16:38:26.575919Z"
    }
   },
   "cell_type": "code",
   "source": [
    "class Handler:\n",
    "    def __init__(self):\n",
    "        self.classifier = pipeline('zero-shot-classification')\n",
    "        self.skills = ['Python', 'relational database', 'Software engineering', 'data science', 'NLP', 'natural language processing']\n",
    "\n",
    "    def search(self, search_query):\n",
    "        return self.classifier(search_query, candidate_labels=self.skills)"
   ],
   "id": "8fc70c0986b4ddb",
   "outputs": [],
   "execution_count": 11
  },
  {
   "metadata": {
    "ExecuteTime": {
     "end_time": "2025-02-13T16:38:29.231426Z",
     "start_time": "2025-02-13T16:38:26.583357Z"
    }
   },
   "cell_type": "code",
   "source": "handler = Handler()",
   "id": "445dcb970e32c173",
   "outputs": [
    {
     "name": "stderr",
     "output_type": "stream",
     "text": [
      "No model was supplied, defaulted to FacebookAI/roberta-large-mnli and revision 2a8f12d (https://huggingface.co/FacebookAI/roberta-large-mnli).\n",
      "Using a pipeline without specifying a model name and revision in production is not recommended.\n",
      "All PyTorch model weights were used when initializing TFRobertaForSequenceClassification.\n",
      "\n",
      "All the weights of TFRobertaForSequenceClassification were initialized from the PyTorch model.\n",
      "If your task is similar to the task the model of the checkpoint was trained on, you can already use TFRobertaForSequenceClassification for predictions without further training.\n",
      "Device set to use 0\n"
     ]
    }
   ],
   "execution_count": 12
  },
  {
   "metadata": {
    "ExecuteTime": {
     "end_time": "2025-02-13T16:38:29.239978Z",
     "start_time": "2025-02-13T16:38:29.236939Z"
    }
   },
   "cell_type": "code",
   "source": [
    "def print_result(result):\n",
    "    for x in result['labels']:\n",
    "        score = result['scores'][result['labels'].index(x)]\n",
    "        print(x, score)"
   ],
   "id": "d9d3ec2fca74ec95",
   "outputs": [],
   "execution_count": 13
  },
  {
   "metadata": {
    "ExecuteTime": {
     "end_time": "2025-02-13T16:41:52.825131Z",
     "start_time": "2025-02-13T16:41:47.395207Z"
    }
   },
   "cell_type": "code",
   "source": [
    "queries = ['Software engineer', 'Machine Learning', 'Data Science', 'database engineer']\n",
    "results = []\n",
    "for x in queries:\n",
    "    results.append((x, handler.search(x)))"
   ],
   "id": "ce09aa8dae509175",
   "outputs": [],
   "execution_count": 21
  },
  {
   "metadata": {
    "ExecuteTime": {
     "end_time": "2025-02-13T16:41:53.955069Z",
     "start_time": "2025-02-13T16:41:53.951890Z"
    }
   },
   "cell_type": "code",
   "source": [
    "for x in results:\n",
    "    print(x[0])\n",
    "    print_result(x[1])\n",
    "    print()"
   ],
   "id": "c1fb5207a21a5da",
   "outputs": [
    {
     "name": "stdout",
     "output_type": "stream",
     "text": [
      "Software engineer\n",
      "Software engineering 0.9251563549041748\n",
      "data science 0.04066705331206322\n",
      "natural language processing 0.009084598161280155\n",
      "NLP 0.008914078585803509\n",
      "relational database 0.00862279161810875\n",
      "Python 0.007555027492344379\n",
      "\n",
      "Machine Learning\n",
      "data science 0.6999179124832153\n",
      "NLP 0.11329258233308792\n",
      "Software engineering 0.05977582558989525\n",
      "Python 0.053349174559116364\n",
      "relational database 0.046772550791502\n",
      "natural language processing 0.026891984045505524\n",
      "\n",
      "Data Science\n",
      "data science 0.9221569299697876\n",
      "relational database 0.027115918695926666\n",
      "NLP 0.015773488208651543\n",
      "Software engineering 0.012357295490801334\n",
      "Python 0.01235250011086464\n",
      "natural language processing 0.010243813507258892\n",
      "\n",
      "database engineer\n",
      "data science 0.7440581321716309\n",
      "Software engineering 0.0930672287940979\n",
      "relational database 0.07874520123004913\n",
      "NLP 0.041786257177591324\n",
      "natural language processing 0.022083932533860207\n",
      "Python 0.02025921456515789\n",
      "\n"
     ]
    }
   ],
   "execution_count": 22
  },
  {
   "metadata": {
    "ExecuteTime": {
     "end_time": "2025-02-13T16:38:33.392169Z",
     "start_time": "2025-02-13T16:38:33.390164Z"
    }
   },
   "cell_type": "code",
   "source": "",
   "id": "26073054f8e86787",
   "outputs": [],
   "execution_count": null
  }
 ],
 "metadata": {
  "kernelspec": {
   "display_name": "Python 3",
   "language": "python",
   "name": "python3"
  },
  "language_info": {
   "codemirror_mode": {
    "name": "ipython",
    "version": 2
   },
   "file_extension": ".py",
   "mimetype": "text/x-python",
   "name": "python",
   "nbconvert_exporter": "python",
   "pygments_lexer": "ipython2",
   "version": "2.7.6"
  }
 },
 "nbformat": 4,
 "nbformat_minor": 5
}
